{
 "cells": [
  {
   "cell_type": "markdown",
   "id": "bf1319f9",
   "metadata": {},
   "source": [
    "# Airtable integration"
   ]
  },
  {
   "cell_type": "code",
   "execution_count": 2,
   "id": "93f82f99",
   "metadata": {},
   "outputs": [],
   "source": [
    "from IPython.display import display, HTML"
   ]
  },
  {
   "cell_type": "code",
   "execution_count": 4,
   "id": "aa4c41a4",
   "metadata": {},
   "outputs": [
    {
     "data": {
      "text/html": [
       "\n",
       "<iframe class=\"airtable-embed\" src=\"https://airtable.com/embed/appryrX4JpgLOe2ei/shr7v2cFWaheqToxN?backgroundColor=green\" frameborder=\"0\" onmousewheel=\"\" width=\"100%\" height=\"533\" style=\"background: transparent; border: 1px solid #ccc;\"></iframe>\n"
      ],
      "text/plain": [
       "<IPython.core.display.HTML object>"
      ]
     },
     "metadata": {},
     "output_type": "display_data"
    }
   ],
   "source": [
    "html_code = '''\n",
    "<iframe class=\"airtable-embed\" src=\"https://airtable.com/embed/appryrX4JpgLOe2ei/shr7v2cFWaheqToxN?backgroundColor=green\" frameborder=\"0\" onmousewheel=\"\" width=\"100%\" height=\"533\" style=\"background: transparent; border: 1px solid #ccc;\"></iframe>\n",
    "'''\n",
    "\n",
    "display(HTML(html_code))"
   ]
  }
 ],
 "metadata": {
  "kernelspec": {
   "display_name": "Python 3 (ipykernel)",
   "language": "python",
   "name": "python3"
  },
  "language_info": {
   "codemirror_mode": {
    "name": "ipython",
    "version": 3
   },
   "file_extension": ".py",
   "mimetype": "text/x-python",
   "name": "python",
   "nbconvert_exporter": "python",
   "pygments_lexer": "ipython3",
   "version": "3.10.9"
  }
 },
 "nbformat": 4,
 "nbformat_minor": 5
}
